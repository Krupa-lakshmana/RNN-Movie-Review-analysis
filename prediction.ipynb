{
 "cells": [
  {
   "cell_type": "code",
   "execution_count": 1,
   "metadata": {},
   "outputs": [],
   "source": [
    "import tensorflow as tf \n",
    "import numpy as np \n",
    "from tensorflow.keras.datasets import imdb \n",
    "from tensorflow.keras.preprocessing import sequence \n",
    "from tensorflow.keras.models import load_model \n"
   ]
  },
  {
   "cell_type": "code",
   "execution_count": 2,
   "metadata": {},
   "outputs": [],
   "source": [
    "word_index=imdb.get_word_index() \n",
    "reverse_word_index = {value: key for key, value in word_index.items()}\n"
   ]
  },
  {
   "cell_type": "code",
   "execution_count": 3,
   "metadata": {},
   "outputs": [
    {
     "name": "stderr",
     "output_type": "stream",
     "text": [
      "2025-07-01 15:26:19.352837: I metal_plugin/src/device/metal_device.cc:1154] Metal device set to: Apple M3\n",
      "2025-07-01 15:26:19.354288: I metal_plugin/src/device/metal_device.cc:296] systemMemory: 8.00 GB\n",
      "2025-07-01 15:26:19.354971: I metal_plugin/src/device/metal_device.cc:313] maxCacheSize: 2.67 GB\n",
      "2025-07-01 15:26:19.355203: I tensorflow/core/common_runtime/pluggable_device/pluggable_device_factory.cc:305] Could not identify NUMA node of platform GPU ID 0, defaulting to 0. Your kernel may not have been built with NUMA support.\n",
      "2025-07-01 15:26:19.355415: I tensorflow/core/common_runtime/pluggable_device/pluggable_device_factory.cc:271] Created TensorFlow device (/job:localhost/replica:0/task:0/device:GPU:0 with 0 MB memory) -> physical PluggableDevice (device: 0, name: METAL, pci bus id: <undefined>)\n",
      "WARNING:absl:Compiled the loaded model, but the compiled metrics have yet to be built. `model.compile_metrics` will be empty until you train or evaluate the model.\n"
     ]
    },
    {
     "data": {
      "text/html": [
       "<pre style=\"white-space:pre;overflow-x:auto;line-height:normal;font-family:Menlo,'DejaVu Sans Mono',consolas,'Courier New',monospace\"><span style=\"font-weight: bold\">Model: \"sequential_2\"</span>\n",
       "</pre>\n"
      ],
      "text/plain": [
       "\u001b[1mModel: \"sequential_2\"\u001b[0m\n"
      ]
     },
     "metadata": {},
     "output_type": "display_data"
    },
    {
     "data": {
      "text/html": [
       "<pre style=\"white-space:pre;overflow-x:auto;line-height:normal;font-family:Menlo,'DejaVu Sans Mono',consolas,'Courier New',monospace\">┏━━━━━━━━━━━━━━━━━━━━━━━━━━━━━━━━━┳━━━━━━━━━━━━━━━━━━━━━━━━┳━━━━━━━━━━━━━━━┓\n",
       "┃<span style=\"font-weight: bold\"> Layer (type)                    </span>┃<span style=\"font-weight: bold\"> Output Shape           </span>┃<span style=\"font-weight: bold\">       Param # </span>┃\n",
       "┡━━━━━━━━━━━━━━━━━━━━━━━━━━━━━━━━━╇━━━━━━━━━━━━━━━━━━━━━━━━╇━━━━━━━━━━━━━━━┩\n",
       "│ embedding_2 (<span style=\"color: #0087ff; text-decoration-color: #0087ff\">Embedding</span>)         │ (<span style=\"color: #00d7ff; text-decoration-color: #00d7ff\">None</span>, <span style=\"color: #00af00; text-decoration-color: #00af00\">500</span>, <span style=\"color: #00af00; text-decoration-color: #00af00\">128</span>)       │     <span style=\"color: #00af00; text-decoration-color: #00af00\">1,280,000</span> │\n",
       "├─────────────────────────────────┼────────────────────────┼───────────────┤\n",
       "│ simple_rnn_2 (<span style=\"color: #0087ff; text-decoration-color: #0087ff\">SimpleRNN</span>)        │ (<span style=\"color: #00d7ff; text-decoration-color: #00d7ff\">None</span>, <span style=\"color: #00af00; text-decoration-color: #00af00\">128</span>)            │        <span style=\"color: #00af00; text-decoration-color: #00af00\">32,896</span> │\n",
       "├─────────────────────────────────┼────────────────────────┼───────────────┤\n",
       "│ dense_2 (<span style=\"color: #0087ff; text-decoration-color: #0087ff\">Dense</span>)                 │ (<span style=\"color: #00d7ff; text-decoration-color: #00d7ff\">None</span>, <span style=\"color: #00af00; text-decoration-color: #00af00\">1</span>)              │           <span style=\"color: #00af00; text-decoration-color: #00af00\">129</span> │\n",
       "└─────────────────────────────────┴────────────────────────┴───────────────┘\n",
       "</pre>\n"
      ],
      "text/plain": [
       "┏━━━━━━━━━━━━━━━━━━━━━━━━━━━━━━━━━┳━━━━━━━━━━━━━━━━━━━━━━━━┳━━━━━━━━━━━━━━━┓\n",
       "┃\u001b[1m \u001b[0m\u001b[1mLayer (type)                   \u001b[0m\u001b[1m \u001b[0m┃\u001b[1m \u001b[0m\u001b[1mOutput Shape          \u001b[0m\u001b[1m \u001b[0m┃\u001b[1m \u001b[0m\u001b[1m      Param #\u001b[0m\u001b[1m \u001b[0m┃\n",
       "┡━━━━━━━━━━━━━━━━━━━━━━━━━━━━━━━━━╇━━━━━━━━━━━━━━━━━━━━━━━━╇━━━━━━━━━━━━━━━┩\n",
       "│ embedding_2 (\u001b[38;5;33mEmbedding\u001b[0m)         │ (\u001b[38;5;45mNone\u001b[0m, \u001b[38;5;34m500\u001b[0m, \u001b[38;5;34m128\u001b[0m)       │     \u001b[38;5;34m1,280,000\u001b[0m │\n",
       "├─────────────────────────────────┼────────────────────────┼───────────────┤\n",
       "│ simple_rnn_2 (\u001b[38;5;33mSimpleRNN\u001b[0m)        │ (\u001b[38;5;45mNone\u001b[0m, \u001b[38;5;34m128\u001b[0m)            │        \u001b[38;5;34m32,896\u001b[0m │\n",
       "├─────────────────────────────────┼────────────────────────┼───────────────┤\n",
       "│ dense_2 (\u001b[38;5;33mDense\u001b[0m)                 │ (\u001b[38;5;45mNone\u001b[0m, \u001b[38;5;34m1\u001b[0m)              │           \u001b[38;5;34m129\u001b[0m │\n",
       "└─────────────────────────────────┴────────────────────────┴───────────────┘\n"
      ]
     },
     "metadata": {},
     "output_type": "display_data"
    },
    {
     "data": {
      "text/html": [
       "<pre style=\"white-space:pre;overflow-x:auto;line-height:normal;font-family:Menlo,'DejaVu Sans Mono',consolas,'Courier New',monospace\"><span style=\"font-weight: bold\"> Total params: </span><span style=\"color: #00af00; text-decoration-color: #00af00\">1,313,027</span> (5.01 MB)\n",
       "</pre>\n"
      ],
      "text/plain": [
       "\u001b[1m Total params: \u001b[0m\u001b[38;5;34m1,313,027\u001b[0m (5.01 MB)\n"
      ]
     },
     "metadata": {},
     "output_type": "display_data"
    },
    {
     "data": {
      "text/html": [
       "<pre style=\"white-space:pre;overflow-x:auto;line-height:normal;font-family:Menlo,'DejaVu Sans Mono',consolas,'Courier New',monospace\"><span style=\"font-weight: bold\"> Trainable params: </span><span style=\"color: #00af00; text-decoration-color: #00af00\">1,313,025</span> (5.01 MB)\n",
       "</pre>\n"
      ],
      "text/plain": [
       "\u001b[1m Trainable params: \u001b[0m\u001b[38;5;34m1,313,025\u001b[0m (5.01 MB)\n"
      ]
     },
     "metadata": {},
     "output_type": "display_data"
    },
    {
     "data": {
      "text/html": [
       "<pre style=\"white-space:pre;overflow-x:auto;line-height:normal;font-family:Menlo,'DejaVu Sans Mono',consolas,'Courier New',monospace\"><span style=\"font-weight: bold\"> Non-trainable params: </span><span style=\"color: #00af00; text-decoration-color: #00af00\">0</span> (0.00 B)\n",
       "</pre>\n"
      ],
      "text/plain": [
       "\u001b[1m Non-trainable params: \u001b[0m\u001b[38;5;34m0\u001b[0m (0.00 B)\n"
      ]
     },
     "metadata": {},
     "output_type": "display_data"
    },
    {
     "data": {
      "text/html": [
       "<pre style=\"white-space:pre;overflow-x:auto;line-height:normal;font-family:Menlo,'DejaVu Sans Mono',consolas,'Courier New',monospace\"><span style=\"font-weight: bold\"> Optimizer params: </span><span style=\"color: #00af00; text-decoration-color: #00af00\">2</span> (12.00 B)\n",
       "</pre>\n"
      ],
      "text/plain": [
       "\u001b[1m Optimizer params: \u001b[0m\u001b[38;5;34m2\u001b[0m (12.00 B)\n"
      ]
     },
     "metadata": {},
     "output_type": "display_data"
    }
   ],
   "source": [
    "model = load_model('simple_rnn_imdb.h5')\n",
    "model.summary()"
   ]
  },
  {
   "cell_type": "code",
   "execution_count": 4,
   "metadata": {},
   "outputs": [
    {
     "data": {
      "text/plain": [
       "[array([[-0.1614714 , -0.18253236,  0.20107521, ...,  0.14828056,\n",
       "          0.01460105,  0.20101723],\n",
       "        [-0.07981717,  0.02010973, -0.02931003, ...,  0.02024619,\n",
       "         -0.05298778,  0.05703991],\n",
       "        [-0.03293125, -0.11064652,  0.06697849, ...,  0.05357875,\n",
       "         -0.03617107,  0.01393908],\n",
       "        ...,\n",
       "        [-0.00978007, -0.02971655,  0.02471915, ...,  0.02497909,\n",
       "          0.03770976,  0.04384645],\n",
       "        [ 0.01963652,  0.01520169, -0.03259598, ...,  0.00450369,\n",
       "          0.0023782 , -0.04105075],\n",
       "        [-0.02166344,  0.01781141,  0.04094629, ...,  0.06444187,\n",
       "         -0.06296376,  0.09384239]], dtype=float32),\n",
       " array([[ 0.09911814, -0.05382909, -0.02363972, ...,  0.15834847,\n",
       "         -0.08388402, -0.11244636],\n",
       "        [ 0.10735933,  0.07124008, -0.02773948, ...,  0.03428311,\n",
       "          0.00193165, -0.04399896],\n",
       "        [ 0.05715637,  0.06326421,  0.11486419, ...,  0.05573869,\n",
       "         -0.05056164, -0.06381582],\n",
       "        ...,\n",
       "        [ 0.0187638 , -0.05403879,  0.1321672 , ..., -0.17484127,\n",
       "          0.0933441 ,  0.13418701],\n",
       "        [ 0.03285621,  0.11562789, -0.02844672, ...,  0.04679114,\n",
       "         -0.04177118, -0.01701851],\n",
       "        [ 0.02067504, -0.04949565,  0.16169944, ..., -0.01193841,\n",
       "          0.06882309, -0.06872827]], dtype=float32),\n",
       " array([[-0.09530415,  0.14124645,  0.05771992, ..., -0.06057858,\n",
       "          0.14335221, -0.1092464 ],\n",
       "        [-0.22094904,  0.05614946, -0.03876775, ...,  0.1499476 ,\n",
       "         -0.13956986, -0.20804478],\n",
       "        [ 0.0548477 ,  0.04237939,  0.03578032, ...,  0.00761549,\n",
       "          0.15515454, -0.06103254],\n",
       "        ...,\n",
       "        [ 0.04593751,  0.10419608, -0.04087887, ..., -0.01365097,\n",
       "         -0.08705688, -0.22071496],\n",
       "        [ 0.00667474,  0.10654751,  0.00388299, ..., -0.03519641,\n",
       "          0.18084969,  0.08237655],\n",
       "        [ 0.21739392,  0.19834942,  0.16094463, ...,  0.11405133,\n",
       "         -0.0118244 ,  0.00437161]], dtype=float32),\n",
       " array([-2.3666348e-02, -1.4771539e-02,  1.0792875e-02,  1.2640059e-02,\n",
       "         2.0796885e-03, -1.4239109e-02, -3.7795998e-02, -1.8408867e-02,\n",
       "        -2.7283471e-02, -1.2115697e-02, -1.3928070e-02,  1.6532341e-02,\n",
       "        -2.4656316e-03, -1.3789289e-02, -1.5957366e-05,  3.4798419e-03,\n",
       "         1.1461957e-03,  3.7798505e-02, -2.4676805e-02,  7.6115895e-03,\n",
       "         3.0296085e-02,  1.2872166e-02, -2.1547684e-02, -2.4075031e-03,\n",
       "         1.1636689e-02, -2.4469182e-02,  2.2144062e-02, -2.9730301e-02,\n",
       "         8.9238500e-03,  3.6944844e-02,  8.1891008e-04, -1.2904563e-03,\n",
       "         3.1584002e-02, -2.5748393e-02, -2.9566193e-02,  3.8527038e-02,\n",
       "        -1.3233158e-03,  1.8759461e-02, -3.6724787e-02,  1.2223172e-02,\n",
       "        -9.0047158e-03, -2.6276832e-02, -2.2475773e-02, -2.1974111e-02,\n",
       "        -1.2317891e-03, -1.9117577e-02, -3.6637444e-02,  2.2168588e-03,\n",
       "         1.3864886e-03,  1.9164391e-02,  8.5905697e-03, -3.3469845e-02,\n",
       "        -6.0821902e-03,  2.6932944e-02, -1.6116802e-02, -2.1474138e-02,\n",
       "        -3.6973644e-02,  3.4927411e-03, -1.7783608e-02, -2.5686514e-02,\n",
       "        -2.9102704e-02,  2.7178184e-04, -3.8659293e-02,  2.4087364e-02,\n",
       "         2.4129866e-02, -9.1867056e-03,  1.9211665e-02,  3.0755322e-02,\n",
       "        -2.2754099e-02, -1.2153335e-02, -2.4945721e-02, -1.1917473e-02,\n",
       "        -1.4516998e-02,  2.7615799e-02,  1.6732424e-02, -1.3039748e-02,\n",
       "         2.0822687e-02,  5.5081886e-04, -5.1634768e-03, -2.2622732e-02,\n",
       "         1.3838215e-02,  1.2070112e-02,  1.3276271e-02, -1.8099509e-02,\n",
       "         3.6473848e-02, -2.7266428e-02, -2.1596696e-02,  1.5215931e-03,\n",
       "        -8.3837379e-03, -3.5689458e-02, -2.8001266e-02,  2.7224906e-02,\n",
       "        -8.8689215e-03,  6.9623818e-03,  3.1745940e-02, -1.6572858e-03,\n",
       "         1.0800458e-02,  1.8045472e-02, -6.9598021e-04, -8.7067764e-03,\n",
       "        -1.4217851e-02,  1.0671755e-02, -5.7829698e-03, -1.9764526e-02,\n",
       "        -1.5273540e-02, -1.7508384e-02, -1.7503833e-02, -2.8271280e-02,\n",
       "         2.3726853e-02,  1.1573979e-03,  1.4772305e-02,  2.4124473e-02,\n",
       "        -8.1203338e-03, -2.7247710e-02, -1.6447416e-02,  3.5132378e-02,\n",
       "         4.8351227e-03, -2.5650783e-02,  3.4019761e-02, -2.1336382e-02,\n",
       "        -3.2566011e-02,  6.1155483e-03, -1.0477781e-02, -3.2662421e-02,\n",
       "        -5.6105526e-03,  1.8528363e-03,  2.7764782e-02,  1.1157763e-02],\n",
       "       dtype=float32),\n",
       " array([[ 0.04709201],\n",
       "        [-0.1730983 ],\n",
       "        [ 0.0025739 ],\n",
       "        [-0.29943934],\n",
       "        [-0.13963126],\n",
       "        [-0.23032916],\n",
       "        [ 0.09666461],\n",
       "        [-0.02514188],\n",
       "        [-0.1600273 ],\n",
       "        [ 0.22114779],\n",
       "        [-0.03732467],\n",
       "        [-0.16943039],\n",
       "        [ 0.17965314],\n",
       "        [-0.25164002],\n",
       "        [-0.18879218],\n",
       "        [-0.26349813],\n",
       "        [-0.41224566],\n",
       "        [ 0.10663655],\n",
       "        [-0.16168208],\n",
       "        [-0.1297716 ],\n",
       "        [ 0.19232385],\n",
       "        [ 0.09987406],\n",
       "        [-0.08207919],\n",
       "        [ 0.07760698],\n",
       "        [-0.1403304 ],\n",
       "        [ 0.22251941],\n",
       "        [ 0.05879953],\n",
       "        [-0.00567446],\n",
       "        [-0.15661688],\n",
       "        [ 0.0653263 ],\n",
       "        [-0.14078936],\n",
       "        [-0.19515948],\n",
       "        [ 0.02663882],\n",
       "        [-0.12680468],\n",
       "        [-0.228245  ],\n",
       "        [ 0.04406225],\n",
       "        [-0.25151345],\n",
       "        [-0.01469381],\n",
       "        [-0.09993149],\n",
       "        [-0.0528888 ],\n",
       "        [-0.18670708],\n",
       "        [ 0.20372719],\n",
       "        [-0.20518121],\n",
       "        [-0.15835245],\n",
       "        [-0.06368458],\n",
       "        [ 0.04803794],\n",
       "        [ 0.09334418],\n",
       "        [-0.06267246],\n",
       "        [-0.20335013],\n",
       "        [ 0.19120874],\n",
       "        [-0.2757489 ],\n",
       "        [ 0.02994436],\n",
       "        [ 0.05695355],\n",
       "        [ 0.08862419],\n",
       "        [ 0.04879826],\n",
       "        [-0.18732944],\n",
       "        [ 0.08571947],\n",
       "        [-0.123244  ],\n",
       "        [-0.1713286 ],\n",
       "        [-0.05238879],\n",
       "        [-0.13764918],\n",
       "        [-0.30065462],\n",
       "        [ 0.03601828],\n",
       "        [-0.0928609 ],\n",
       "        [ 0.21660157],\n",
       "        [ 0.12488987],\n",
       "        [-0.28573376],\n",
       "        [ 0.14149055],\n",
       "        [ 0.17676426],\n",
       "        [-0.20014703],\n",
       "        [-0.17052563],\n",
       "        [-0.14691389],\n",
       "        [ 0.07157157],\n",
       "        [-0.08087269],\n",
       "        [ 0.17752916],\n",
       "        [ 0.07328241],\n",
       "        [ 0.0285998 ],\n",
       "        [-0.15322542],\n",
       "        [-0.19539481],\n",
       "        [ 0.06134182],\n",
       "        [-0.03540953],\n",
       "        [-0.1875492 ],\n",
       "        [ 0.10730093],\n",
       "        [-0.18882005],\n",
       "        [ 0.0897175 ],\n",
       "        [-0.15020591],\n",
       "        [ 0.05087933],\n",
       "        [-0.09778727],\n",
       "        [ 0.1333057 ],\n",
       "        [-0.01138206],\n",
       "        [ 0.09773397],\n",
       "        [-0.04387687],\n",
       "        [-0.21508507],\n",
       "        [-0.02660238],\n",
       "        [-0.02939912],\n",
       "        [-0.1873676 ],\n",
       "        [-0.22665884],\n",
       "        [ 0.19039686],\n",
       "        [ 0.163559  ],\n",
       "        [ 0.19762337],\n",
       "        [ 0.2502226 ],\n",
       "        [ 0.07182726],\n",
       "        [ 0.02726464],\n",
       "        [ 0.15943955],\n",
       "        [-0.23863697],\n",
       "        [ 0.09453714],\n",
       "        [ 0.07555766],\n",
       "        [-0.19574793],\n",
       "        [-0.13333303],\n",
       "        [-0.07097529],\n",
       "        [-0.10720861],\n",
       "        [-0.24398327],\n",
       "        [-0.29260898],\n",
       "        [-0.16884544],\n",
       "        [-0.14645801],\n",
       "        [ 0.05676663],\n",
       "        [ 0.12176857],\n",
       "        [-0.10397605],\n",
       "        [ 0.15018395],\n",
       "        [-0.20221438],\n",
       "        [-0.09489041],\n",
       "        [ 0.12955326],\n",
       "        [-0.19965051],\n",
       "        [-0.15099122],\n",
       "        [-0.141153  ],\n",
       "        [-0.05596468],\n",
       "        [ 0.08768605],\n",
       "        [-0.10410524]], dtype=float32),\n",
       " array([-0.26905462], dtype=float32)]"
      ]
     },
     "execution_count": 4,
     "metadata": {},
     "output_type": "execute_result"
    }
   ],
   "source": [
    "model.get_weights()"
   ]
  },
  {
   "cell_type": "code",
   "execution_count": 5,
   "metadata": {},
   "outputs": [],
   "source": [
    "def decode_review(encoded_review):\n",
    "    return ' '.join([reverse_word_index.get(i - 3,'?') for i in encoded_review])\n",
    "\n",
    "def preprocess_text(text):\n",
    "    words = text.lower().split()\n",
    "    encoded_review = [word_index.get(word, 2) + 3 for word in words]\n",
    "    padded_review = sequence.pad_sequences([encoded_review], maxlen=500)\n",
    "    return padded_review"
   ]
  },
  {
   "cell_type": "code",
   "execution_count": 6,
   "metadata": {},
   "outputs": [],
   "source": [
    "#pridiction functon \n",
    "def predict_sentiment(review):\n",
    "    preprocessed_input=preprocess_text(review)\n",
    "\n",
    "    prediction=model.predict(preprocessed_input)\n",
    "\n",
    "    sentiment = 'Positive' if prediction[0][0] > 0.5 else 'Negative'\n",
    "\n",
    "    return sentiment, prediction[0][0]"
   ]
  },
  {
   "cell_type": "code",
   "execution_count": 7,
   "metadata": {},
   "outputs": [
    {
     "name": "stderr",
     "output_type": "stream",
     "text": [
      "2025-07-01 15:37:57.090396: I tensorflow/core/grappler/optimizers/custom_graph_optimizer_registry.cc:117] Plugin optimizer for device_type GPU is enabled.\n"
     ]
    },
    {
     "name": "stdout",
     "output_type": "stream",
     "text": [
      "\u001b[1m1/1\u001b[0m \u001b[32m━━━━━━━━━━━━━━━━━━━━\u001b[0m\u001b[37m\u001b[0m \u001b[1m20s\u001b[0m 20s/step\n",
      "Review: This movie was fantastic! the acting was greate and the plot was thrilling.\n",
      "Sentiment: Positive\n",
      "Prediction Score: 0.8436769247055054\n"
     ]
    }
   ],
   "source": [
    "example_review = \"This movie was fantastic! the acting was greate and the plot was thrilling.\"\n",
    "\n",
    "sentiment,score=predict_sentiment(example_review)\n",
    "\n",
    "print(f'Review: {example_review}')\n",
    "print(f'Sentiment: {sentiment}')\n",
    "print(f'Prediction Score: {score}')"
   ]
  },
  {
   "cell_type": "code",
   "execution_count": null,
   "metadata": {},
   "outputs": [],
   "source": []
  }
 ],
 "metadata": {
  "kernelspec": {
   "display_name": "venv",
   "language": "python",
   "name": "python3"
  },
  "language_info": {
   "codemirror_mode": {
    "name": "ipython",
    "version": 3
   },
   "file_extension": ".py",
   "mimetype": "text/x-python",
   "name": "python",
   "nbconvert_exporter": "python",
   "pygments_lexer": "ipython3",
   "version": "3.11.13"
  }
 },
 "nbformat": 4,
 "nbformat_minor": 2
}
